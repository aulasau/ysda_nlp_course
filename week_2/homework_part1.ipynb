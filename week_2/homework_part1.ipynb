{
  "cells": [
    {
      "cell_type": "code",
      "execution_count": 59,
      "metadata": {
        "id": "1U7OMm6G89YT"
      },
      "outputs": [],
      "source": [
        "import numpy as np\n",
        "import matplotlib.pyplot as plt\n",
        "%matplotlib inline"
      ]
    },
    {
      "cell_type": "markdown",
      "metadata": {
        "id": "asyJ_eMj89YX"
      },
      "source": [
        "### Homework part I: Prohibited Comment Classification (3 points)\n",
        "\n",
        "![img](https://github.com/yandexdataschool/nlp_course/raw/master/resources/banhammer.jpg)\n",
        "\n",
        "__In this notebook__ you will build an algorithm that classifies social media comments into normal or toxic.\n",
        "Like in many real-world cases, you only have a small (10^3) dataset of hand-labeled examples to work with. We'll tackle this problem using both classical nlp methods and embedding-based approach."
      ]
    },
    {
      "cell_type": "markdown",
      "metadata": {
        "id": "KEC-41524-_Q"
      },
      "source": [
        "Load embeddings for ukrainian and russian."
      ]
    },
    {
      "cell_type": "code",
      "source": [
        "from google.colab import drive\n",
        "drive.mount('/content/drive')"
      ],
      "metadata": {
        "colab": {
          "base_uri": "https://localhost:8080/"
        },
        "id": "zJQbTt8v9XzB",
        "outputId": "b64f80ce-e01e-4f61-b19c-017e91b37222"
      },
      "execution_count": 60,
      "outputs": [
        {
          "output_type": "stream",
          "name": "stdout",
          "text": [
            "Drive already mounted at /content/drive; to attempt to forcibly remount, call drive.mount(\"/content/drive\", force_remount=True).\n"
          ]
        }
      ]
    },
    {
      "cell_type": "markdown",
      "source": [
        "#### Only if you use google drive"
      ],
      "metadata": {
        "id": "Dt7ixDYdAJ3S"
      }
    },
    {
      "cell_type": "code",
      "source": [
        "import shutil\n",
        "\n",
        "shutil.copy('/content/drive/MyDrive/nlp_course/week_2/comments.tsv', '/content')"
      ],
      "metadata": {
        "id": "QQwkjqgc9ixl",
        "colab": {
          "base_uri": "https://localhost:8080/",
          "height": 35
        },
        "outputId": "14ce40f5-ba7e-4067-f058-6d50bd09e19a"
      },
      "execution_count": 61,
      "outputs": [
        {
          "output_type": "execute_result",
          "data": {
            "text/plain": [
              "'/content/comments.tsv'"
            ],
            "application/vnd.google.colaboratory.intrinsic+json": {
              "type": "string"
            }
          },
          "metadata": {},
          "execution_count": 61
        }
      ]
    },
    {
      "cell_type": "markdown",
      "source": [
        "---\n",
        "#### Continue"
      ],
      "metadata": {
        "id": "n54ewWAb9oOe"
      }
    },
    {
      "cell_type": "code",
      "execution_count": 62,
      "metadata": {
        "colab": {
          "base_uri": "https://localhost:8080/",
          "height": 206
        },
        "id": "5Vb7KOUc89YZ",
        "outputId": "2f107860-4562-4d8d-9290-2c6fcfac024b"
      },
      "outputs": [
        {
          "output_type": "execute_result",
          "data": {
            "text/plain": [
              "     should_ban                                       comment_text\n",
              "50            0  \"Those who're in advantageous positions are th...\n",
              "250           1          Fartsalot56 says f**k you motherclucker!!\n",
              "450           1  Are you a fool? \\n\\nI am sorry, but you seem t...\n",
              "650           1    I AM NOT A VANDAL!!!!!!!!!!!!!!!!!!!!!!!!!!!!!!\n",
              "850           0  Citing sources\\n\\nCheck out the Wikipedia:Citi..."
            ],
            "text/html": [
              "\n",
              "  <div id=\"df-3c1b4aac-4b49-4d91-b8f5-df933de7ec08\">\n",
              "    <div class=\"colab-df-container\">\n",
              "      <div>\n",
              "<style scoped>\n",
              "    .dataframe tbody tr th:only-of-type {\n",
              "        vertical-align: middle;\n",
              "    }\n",
              "\n",
              "    .dataframe tbody tr th {\n",
              "        vertical-align: top;\n",
              "    }\n",
              "\n",
              "    .dataframe thead th {\n",
              "        text-align: right;\n",
              "    }\n",
              "</style>\n",
              "<table border=\"1\" class=\"dataframe\">\n",
              "  <thead>\n",
              "    <tr style=\"text-align: right;\">\n",
              "      <th></th>\n",
              "      <th>should_ban</th>\n",
              "      <th>comment_text</th>\n",
              "    </tr>\n",
              "  </thead>\n",
              "  <tbody>\n",
              "    <tr>\n",
              "      <th>50</th>\n",
              "      <td>0</td>\n",
              "      <td>\"Those who're in advantageous positions are th...</td>\n",
              "    </tr>\n",
              "    <tr>\n",
              "      <th>250</th>\n",
              "      <td>1</td>\n",
              "      <td>Fartsalot56 says f**k you motherclucker!!</td>\n",
              "    </tr>\n",
              "    <tr>\n",
              "      <th>450</th>\n",
              "      <td>1</td>\n",
              "      <td>Are you a fool? \\n\\nI am sorry, but you seem t...</td>\n",
              "    </tr>\n",
              "    <tr>\n",
              "      <th>650</th>\n",
              "      <td>1</td>\n",
              "      <td>I AM NOT A VANDAL!!!!!!!!!!!!!!!!!!!!!!!!!!!!!!</td>\n",
              "    </tr>\n",
              "    <tr>\n",
              "      <th>850</th>\n",
              "      <td>0</td>\n",
              "      <td>Citing sources\\n\\nCheck out the Wikipedia:Citi...</td>\n",
              "    </tr>\n",
              "  </tbody>\n",
              "</table>\n",
              "</div>\n",
              "      <button class=\"colab-df-convert\" onclick=\"convertToInteractive('df-3c1b4aac-4b49-4d91-b8f5-df933de7ec08')\"\n",
              "              title=\"Convert this dataframe to an interactive table.\"\n",
              "              style=\"display:none;\">\n",
              "        \n",
              "  <svg xmlns=\"http://www.w3.org/2000/svg\" height=\"24px\"viewBox=\"0 0 24 24\"\n",
              "       width=\"24px\">\n",
              "    <path d=\"M0 0h24v24H0V0z\" fill=\"none\"/>\n",
              "    <path d=\"M18.56 5.44l.94 2.06.94-2.06 2.06-.94-2.06-.94-.94-2.06-.94 2.06-2.06.94zm-11 1L8.5 8.5l.94-2.06 2.06-.94-2.06-.94L8.5 2.5l-.94 2.06-2.06.94zm10 10l.94 2.06.94-2.06 2.06-.94-2.06-.94-.94-2.06-.94 2.06-2.06.94z\"/><path d=\"M17.41 7.96l-1.37-1.37c-.4-.4-.92-.59-1.43-.59-.52 0-1.04.2-1.43.59L10.3 9.45l-7.72 7.72c-.78.78-.78 2.05 0 2.83L4 21.41c.39.39.9.59 1.41.59.51 0 1.02-.2 1.41-.59l7.78-7.78 2.81-2.81c.8-.78.8-2.07 0-2.86zM5.41 20L4 18.59l7.72-7.72 1.47 1.35L5.41 20z\"/>\n",
              "  </svg>\n",
              "      </button>\n",
              "      \n",
              "  <style>\n",
              "    .colab-df-container {\n",
              "      display:flex;\n",
              "      flex-wrap:wrap;\n",
              "      gap: 12px;\n",
              "    }\n",
              "\n",
              "    .colab-df-convert {\n",
              "      background-color: #E8F0FE;\n",
              "      border: none;\n",
              "      border-radius: 50%;\n",
              "      cursor: pointer;\n",
              "      display: none;\n",
              "      fill: #1967D2;\n",
              "      height: 32px;\n",
              "      padding: 0 0 0 0;\n",
              "      width: 32px;\n",
              "    }\n",
              "\n",
              "    .colab-df-convert:hover {\n",
              "      background-color: #E2EBFA;\n",
              "      box-shadow: 0px 1px 2px rgba(60, 64, 67, 0.3), 0px 1px 3px 1px rgba(60, 64, 67, 0.15);\n",
              "      fill: #174EA6;\n",
              "    }\n",
              "\n",
              "    [theme=dark] .colab-df-convert {\n",
              "      background-color: #3B4455;\n",
              "      fill: #D2E3FC;\n",
              "    }\n",
              "\n",
              "    [theme=dark] .colab-df-convert:hover {\n",
              "      background-color: #434B5C;\n",
              "      box-shadow: 0px 1px 3px 1px rgba(0, 0, 0, 0.15);\n",
              "      filter: drop-shadow(0px 1px 2px rgba(0, 0, 0, 0.3));\n",
              "      fill: #FFFFFF;\n",
              "    }\n",
              "  </style>\n",
              "\n",
              "      <script>\n",
              "        const buttonEl =\n",
              "          document.querySelector('#df-3c1b4aac-4b49-4d91-b8f5-df933de7ec08 button.colab-df-convert');\n",
              "        buttonEl.style.display =\n",
              "          google.colab.kernel.accessAllowed ? 'block' : 'none';\n",
              "\n",
              "        async function convertToInteractive(key) {\n",
              "          const element = document.querySelector('#df-3c1b4aac-4b49-4d91-b8f5-df933de7ec08');\n",
              "          const dataTable =\n",
              "            await google.colab.kernel.invokeFunction('convertToInteractive',\n",
              "                                                     [key], {});\n",
              "          if (!dataTable) return;\n",
              "\n",
              "          const docLinkHtml = 'Like what you see? Visit the ' +\n",
              "            '<a target=\"_blank\" href=https://colab.research.google.com/notebooks/data_table.ipynb>data table notebook</a>'\n",
              "            + ' to learn more about interactive tables.';\n",
              "          element.innerHTML = '';\n",
              "          dataTable['output_type'] = 'display_data';\n",
              "          await google.colab.output.renderOutput(dataTable, element);\n",
              "          const docLink = document.createElement('div');\n",
              "          docLink.innerHTML = docLinkHtml;\n",
              "          element.appendChild(docLink);\n",
              "        }\n",
              "      </script>\n",
              "    </div>\n",
              "  </div>\n",
              "  "
            ]
          },
          "metadata": {},
          "execution_count": 62
        }
      ],
      "source": [
        "import pandas as pd\n",
        "data = pd.read_csv(\"comments.tsv\", sep='\\t')\n",
        "\n",
        "texts = data['comment_text'].values\n",
        "target = data['should_ban'].values\n",
        "data[50::200]"
      ]
    },
    {
      "cell_type": "code",
      "execution_count": 63,
      "metadata": {
        "id": "USAJH2kl89Yb"
      },
      "outputs": [],
      "source": [
        "from sklearn.model_selection import train_test_split\n",
        "texts_train, texts_test, y_train, y_test = train_test_split(texts, target, test_size=0.5, random_state=42)"
      ]
    },
    {
      "cell_type": "markdown",
      "metadata": {
        "id": "wPghrohP89Yb"
      },
      "source": [
        "__Note:__ it is generally a good idea to split data into train/test before anything is done to them.\n",
        "\n",
        "It guards you against possible data leakage in the preprocessing stage. For example, should you decide to select words present in obscene tweets as features, you should only count those words over the training set. Otherwise your algoritm can cheat evaluation."
      ]
    },
    {
      "cell_type": "markdown",
      "metadata": {
        "id": "NjPhxsh289Yc"
      },
      "source": [
        "### Preprocessing and tokenization\n",
        "\n",
        "Comments contain raw text with punctuation, upper/lowercase letters and even newline symbols.\n",
        "\n",
        "To simplify all further steps, we'll split text into space-separated tokens using one of nltk tokenizers."
      ]
    },
    {
      "cell_type": "code",
      "execution_count": 64,
      "metadata": {
        "colab": {
          "base_uri": "https://localhost:8080/"
        },
        "id": "LKtbf2l089Yc",
        "outputId": "573a16d5-e956-435e-c979-ec476eea5b9f"
      },
      "outputs": [
        {
          "output_type": "stream",
          "name": "stdout",
          "text": [
            "before: How to be a grown-up at work: replace \"fuck you\" with \"Ok, great!\".\n",
            "after: how to be a grown-up at work : replace \" fuck you \" with \" ok , great ! \" .\n"
          ]
        }
      ],
      "source": [
        "from nltk.tokenize import TweetTokenizer\n",
        "tokenizer = TweetTokenizer()\n",
        "preprocess = lambda text: ' '.join(tokenizer.tokenize(text.lower()))\n",
        "\n",
        "text = 'How to be a grown-up at work: replace \"fuck you\" with \"Ok, great!\".'\n",
        "print(\"before:\", text,)\n",
        "print(\"after:\", preprocess(text),)"
      ]
    },
    {
      "cell_type": "code",
      "execution_count": 65,
      "metadata": {
        "id": "rC8vpkN489Yd"
      },
      "outputs": [],
      "source": [
        "texts_train = [preprocess(t) for t in texts_train]\n",
        "texts_test = [preprocess(t) for t in texts_test]"
      ]
    },
    {
      "cell_type": "code",
      "execution_count": 66,
      "metadata": {
        "id": "uebSX-WJ89Ye"
      },
      "outputs": [],
      "source": [
        "assert texts_train[5] ==  'who cares anymore . they attack with impunity .'\n",
        "assert texts_test[89] == 'hey todds ! quick q ? why are you so gay'\n",
        "assert len(texts_test) == len(y_test)"
      ]
    },
    {
      "cell_type": "markdown",
      "metadata": {
        "id": "5dhjbTmx89Yf"
      },
      "source": [
        "### Solving it: bag of words\n",
        "\n",
        "![img](http://www.novuslight.com/uploads/n/BagofWords.jpg)\n",
        "\n",
        "One traditional approach to such problem is to use bag of words features:\n",
        "1. build a vocabulary of frequent words (use train data only)\n",
        "2. for each training sample, count the number of times a word occurs in it (for each word in vocabulary).\n",
        "3. consider this count a feature for some classifier\n",
        "\n",
        "__Note:__ in practice, you can compute such features using sklearn. Please don't do that in the current assignment, though.\n",
        "* `from sklearn.feature_extraction.text import CountVectorizer, TfidfVectorizer`"
      ]
    },
    {
      "cell_type": "code",
      "execution_count": 141,
      "metadata": {
        "colab": {
          "base_uri": "https://localhost:8080/"
        },
        "id": "Sua9I82R89Yf",
        "outputId": "9d54397f-0ad9-4fc9-d7c3-706aed6ad669"
      },
      "outputs": [
        {
          "output_type": "stream",
          "name": "stdout",
          "text": [
            "5707\n",
            "example features: ['.', 'other', 'editing', 'better', 'alone', 'grammar', 'guerrero', 'answer', 'six', 'events', 'large', 'mentioning', 'movies', 'trivia', 'finding', 'accuse', 'weak', \"where's\", 'debate', 'plenty', '300', 'bottom', 'literally', 'mexico', 'simon', 'gentlemen', \"starlet's\", 'pizza', 'difference', 'new-found', 'outdated', 'permanently', 'pursuing', '06:07', 'preity', 'forever', 'holes', 'blanking', 'markit', 'gainsay', 'desperately', 'non-neutral', 'female', 'எந்த', 'shot', 'divinity', 'postscript', 'hammer', 'noun', 'violate', 'harassing', 'quick', 'mas', 'diligently', \"washington's\", '2014', 'exile', 'stuffed']\n"
          ]
        }
      ],
      "source": [
        "# task: find up to k most frequent tokens in texts_train,\n",
        "# sort them by number of occurences (highest first)\n",
        "from collections import Counter\n",
        "\n",
        "k = 10000\n",
        "counter = Counter()\n",
        "counter.update([t for text in texts_train for t in text.split()])\n",
        "print(len(counter))\n",
        "bow_vocabulary = sorted(counter.items(), key=lambda x: x[1],  reverse=True)[:k]\n",
        "\n",
        "bow_vocabulary = [w for w, c in bow_vocabulary]\n",
        "\n",
        "print('example features:', bow_vocabulary[::100])"
      ]
    },
    {
      "cell_type": "code",
      "source": [
        "k = min(k, len(bow_vocabulary))"
      ],
      "metadata": {
        "id": "KHEvT2HaO8Q7"
      },
      "execution_count": 142,
      "outputs": []
    },
    {
      "cell_type": "code",
      "execution_count": 156,
      "metadata": {
        "id": "l3S7DHEa89Yg"
      },
      "outputs": [],
      "source": [
        "def text_to_bow(text):\n",
        "    \"\"\" convert text string to an array of token counts. Use bow_vocabulary. \"\"\"\n",
        "    bow = np.zeros(k, 'float32')\n",
        "    tokens = preprocess(text).split()\n",
        "    for i, t in enumerate(bow_vocabulary):\n",
        "        if t in tokens:\n",
        "            bow[i] += tokens.count(t)\n",
        "\n",
        "    return bow"
      ]
    },
    {
      "cell_type": "code",
      "source": [
        "text_to_bow('fuck you')"
      ],
      "metadata": {
        "colab": {
          "base_uri": "https://localhost:8080/"
        },
        "id": "vxYsVN4QTx36",
        "outputId": "15d9da56-4c12-45d1-a400-ebb51b5ea0f6"
      },
      "execution_count": 257,
      "outputs": [
        {
          "output_type": "execute_result",
          "data": {
            "text/plain": [
              "array([0., 0., 1., ..., 0., 0., 0.], dtype=float32)"
            ]
          },
          "metadata": {},
          "execution_count": 257
        }
      ]
    },
    {
      "cell_type": "code",
      "execution_count": 157,
      "metadata": {
        "id": "yrl7fwem89Yg"
      },
      "outputs": [],
      "source": [
        "X_train_bow = np.stack(list(map(text_to_bow, texts_train)))\n",
        "X_test_bow = np.stack(list(map(text_to_bow, texts_test)))"
      ]
    },
    {
      "cell_type": "code",
      "execution_count": 158,
      "metadata": {
        "id": "3tKXNKkO89Yh"
      },
      "outputs": [],
      "source": [
        "k_max = len(set(' '.join(texts_train).split()))\n",
        "assert X_train_bow.shape == (len(texts_train), min(k, k_max))\n",
        "assert X_test_bow.shape == (len(texts_test), min(k, k_max))\n",
        "assert np.all(X_train_bow[5:10].sum(-1) == np.array([len(s.split()) for s in  texts_train[5:10]]))\n",
        "assert len(bow_vocabulary) <= min(k, k_max)\n",
        "assert X_train_bow[6, bow_vocabulary.index('.')] == texts_train[6].split().count('.')"
      ]
    },
    {
      "cell_type": "markdown",
      "metadata": {
        "id": "em3iJnDf89Yh"
      },
      "source": [
        "__Naive bayes:__ perhaps the simplest model that can solve your problem is the so called Naive Bayes Classifier. \n",
        "Its a trivial linear model that assumes the independence of input features and computes the coefficients by, well, counting probabilities.\n",
        "\n",
        "If you don't remember the math behind Naive Bayes, read [this chunk](https://lena-voita.github.io/nlp_course/text_classification.html#naive_bayes) to help refresh your memory. Done? Good! Now let's implement that :)"
      ]
    },
    {
      "cell_type": "code",
      "execution_count": 200,
      "metadata": {
        "id": "LzWYytcZ89Yh"
      },
      "outputs": [],
      "source": [
        "class BinaryNaiveBayes:\n",
        "    delta = 1.0  # add this to all word counts to smoothe probabilities\n",
        "    \n",
        "    def fit(self, X, y):\n",
        "        \"\"\"\n",
        "        Fit a NaiveBayes classifier for two classes\n",
        "        :param X: [batch_size, vocab_size] of bag-of-words features\n",
        "        :param y: [batch_size] of binary targets {0, 1}\n",
        "        \"\"\"\n",
        "        # first, compute marginal probabilities of every class, p(y=k) for k = 0,1\n",
        "        #(<YOUR CODE: probability of y=0 and of y=1 in that order>)\n",
        "        self.p_y = np.array([(len(y)-y.sum())/len(y), y.sum()/len(y)])\n",
        "\n",
        "        # count occurences of each word in texts with label 1 and label 0 separately\n",
        "        word_counts_positive = X[np.where(y == 1)].sum(axis=0)\n",
        "        word_counts_negative = X[np.where(y == 0)].sum(axis=0)\n",
        "        # ^-- both must be vectors of shape [vocab_size].\n",
        "        \n",
        "        # finally, lets use those counts to estimate p(x | y = k) for k = 0, 1\n",
        "        word_counts_positive += BinaryNaiveBayes.delta\n",
        "        word_counts_negative += BinaryNaiveBayes.delta\n",
        "        self.p_x_given_positive = word_counts_positive / word_counts_positive.sum()\n",
        "        self.p_x_given_negative = word_counts_negative / word_counts_negative.sum()\n",
        "        # both must be of shape [vocab_size]; and don't forget to add self.delta!\n",
        "        \n",
        "        return self\n",
        "    \n",
        "    def predict_scores(self, X):\n",
        "        \"\"\"\n",
        "        :param X: [batch_size, vocab_size] of bag-of-words features\n",
        "        :returns: a matrix of scores [batch_size, k] of scores for k-th class\n",
        "        \"\"\"\n",
        "        # compute scores for positive and negative classes separately.\n",
        "        # these scores should be proportional to log-probabilities of the respective target {0, 1}\n",
        "        # note: if you apply logarithm to p_x_given_*, the total log-probability can be written\n",
        "        # as a dot-product with X\n",
        "        \n",
        "        score_negative = np.log(self.p_y[0]) + np.dot(X, np.log(self.p_x_given_negative)) \n",
        "        score_positive = np.log(self.p_y[1]) + np.dot(X, np.log(self.p_x_given_positive)) \n",
        "        \n",
        "        # you can compute total p(x | y=k) with a dot product\n",
        "        return np.stack([score_negative, score_positive], axis=-1)\n",
        "    \n",
        "    def predict(self, X):\n",
        "        return self.predict_scores(X).argmax(axis=-1)"
      ]
    },
    {
      "cell_type": "code",
      "execution_count": 201,
      "metadata": {
        "id": "ojRRyKJX89Yi"
      },
      "outputs": [],
      "source": [
        "naive_model = BinaryNaiveBayes().fit(X_train_bow, y_train)"
      ]
    },
    {
      "cell_type": "code",
      "execution_count": 202,
      "metadata": {
        "id": "jdQUkoey89Yi"
      },
      "outputs": [],
      "source": [
        "assert naive_model.p_y.shape == (2,) and naive_model.p_y.sum() == 1 and naive_model.p_y[0] > naive_model.p_y[1]\n",
        "assert naive_model.p_x_given_positive.shape == naive_model.p_x_given_negative.shape == X_train_bow.shape[1:]\n",
        "assert np.allclose(naive_model.p_x_given_positive.sum(), 1.0)\n",
        "assert np.allclose(naive_model.p_x_given_negative.sum(), 1.0)\n",
        "assert naive_model.p_x_given_negative.min() > 0, \"did you forget to add delta?\"\n",
        "\n",
        "f_index = bow_vocabulary.index('fuck')  # offensive tweets should contain more of this\n",
        "assert naive_model.p_x_given_positive[f_index] > naive_model.p_x_given_negative[f_index]\n",
        "\n",
        "g_index = bow_vocabulary.index('good')  # offensive tweets should contain less of this\n",
        "assert naive_model.p_x_given_positive[g_index] < naive_model.p_x_given_negative[g_index]"
      ]
    },
    {
      "cell_type": "code",
      "execution_count": 203,
      "metadata": {
        "id": "ZDwl6YRa89Yi",
        "colab": {
          "base_uri": "https://localhost:8080/",
          "height": 301
        },
        "outputId": "d5235a50-bd37-42ef-e32c-246f84d994ca"
      },
      "outputs": [
        {
          "output_type": "stream",
          "name": "stdout",
          "text": [
            "Model accuracy: 0.756\n",
            "Well done!\n"
          ]
        },
        {
          "output_type": "display_data",
          "data": {
            "text/plain": [
              "<Figure size 432x288 with 1 Axes>"
            ],
            "image/png": "[encoded data removed]"
          },
          "metadata": {
            "needs_background": "light"
          }
        }
      ],
      "source": [
        "from sklearn.metrics import roc_auc_score, roc_curve\n",
        "\n",
        "for name, X, y, model in [\n",
        "    ('train', X_train_bow, y_train, naive_model),\n",
        "    ('test ', X_test_bow, y_test, naive_model)\n",
        "]:\n",
        "    proba = model.predict_scores(X)[:, 1] - model.predict_scores(X)[:, 0]\n",
        "    auc = roc_auc_score(y, proba)\n",
        "    plt.plot(*roc_curve(y, proba)[:2], label='%s AUC=%.4f' % (name, auc))\n",
        "\n",
        "plt.plot([0, 1], [0, 1], '--', color='black',)\n",
        "plt.legend(fontsize='large')\n",
        "plt.grid()\n",
        "\n",
        "test_accuracy = np.mean(naive_model.predict(X_test_bow) == y_test)\n",
        "print(f\"Model accuracy: {test_accuracy:.3f}\")\n",
        "assert test_accuracy > 0.75, \"Accuracy too low. There's likely a mistake in the code.\"\n",
        "print(\"Well done!\")"
      ]
    },
    {
      "cell_type": "markdown",
      "metadata": {
        "id": "06wERSCI89Yj"
      },
      "source": [
        "Okay, it definitely learned *something*. Now let's figure out what exactly it learned. The simplest way to do that is by highlighting which words have a greatest ratio of positive to negative probability or vice versa. We'll go with the positive one [because reasons](https://www.urbandictionary.com/define.php?term=because%20reasons).\n",
        "\n",
        "__Your task__ is to compute top-25 words that have the __highest__ ratio of ${p(x_i | y=1)} \\over {p(x_i | y=0)}$. Enjoy!"
      ]
    },
    {
      "cell_type": "code",
      "execution_count": 206,
      "metadata": {
        "id": "81P6i_0u89Yj",
        "colab": {
          "base_uri": "https://localhost:8080/"
        },
        "outputId": "a8abf692-e10e-4277-d1a2-8ae8bc51b1f3"
      },
      "outputs": [
        {
          "output_type": "stream",
          "name": "stdout",
          "text": [
            "#0\tscientific\t(ratio=12.222967147827148)\n",
            "#1\t         @\t(ratio=13.445263862609863)\n",
            "#2\t     idiot\t(ratio=13.445263862609863)\n",
            "#3\t   bastard\t(ratio=14.667561531066895)\n",
            "#4\t       hit\t(ratio=14.667561531066895)\n",
            "#5\t         u\t(ratio=15.278709411621094)\n",
            "#6\t   asshole\t(ratio=15.889857292175293)\n",
            "#7\t         *\t(ratio=17.11215591430664)\n",
            "#8\t   college\t(ratio=17.11215591430664)\n",
            "#9\t         =\t(ratio=17.53995704650879)\n",
            "#10\t    stupid\t(ratio=18.33445167541504)\n",
            "#11\t       ass\t(ratio=26.890527725219727)\n",
            "#12\t   fucking\t(ratio=31.779714584350586)\n",
            "#13\t      shit\t(ratio=44.002681732177734)\n",
            "#14\t      slap\t(ratio=44.002681732177734)\n",
            "#15\t      fuck\t(ratio=53.78105545043945)\n",
            "#16\t     bitch\t(ratio=59.89254379272461)\n",
            "#17\t      fggt\t(ratio=97.78373718261719)\n",
            "#18\t      dick\t(ratio=187.0113983154297)\n",
            "#19\t j.delanoy\t(ratio=220.01341247558594)\n",
            "#20\t    nigger\t(ratio=223.6802978515625)\n",
            "#21\t      suck\t(ratio=314.7414245605469)\n",
            "#22\t   offfuck\t(ratio=441.2491149902344)\n",
            "#23\t      heil\t(ratio=471.8065185546875)\n",
            "#24\t    hitler\t(ratio=475.47344970703125)\n"
          ]
        }
      ],
      "source": [
        "# hint: use naive_model.p_*\n",
        "probability_ratio = naive_model.p_x_given_positive / naive_model.p_x_given_negative \n",
        "top_negative_words = [bow_vocabulary[i] for i in np.argsort(probability_ratio)[-25:]]\n",
        "\n",
        "\n",
        "assert len(top_negative_words) == 25 and [isinstance(w, str) for w in top_negative_words]\n",
        "assert 'j.delanoy' in top_negative_words and 'college' in top_negative_words\n",
        "\n",
        "for i, word in enumerate(top_negative_words):\n",
        "    print(f\"#{i}\\t{word.rjust(10, ' ')}\\t(ratio={probability_ratio[bow_vocabulary.index(word)]})\")"
      ]
    },
    {
      "cell_type": "markdown",
      "metadata": {
        "id": "fZBYkwHF89Yj"
      },
      "source": [
        "Now lets try something less prehistoric: __Logistic Regression__. Turns out, if you're using silicon instead of an abacus, you can find model weights by optimizing the log-probability of the answer. Though, of course, you don't even need to write it by hand anymore. Let's sklearn it!"
      ]
    },
    {
      "cell_type": "code",
      "execution_count": 234,
      "metadata": {
        "id": "gK9NCKrM89Yj",
        "colab": {
          "base_uri": "https://localhost:8080/"
        },
        "outputId": "4ce5a988-4308-4404-e310-694a7e80872e"
      },
      "outputs": [
        {
          "output_type": "execute_result",
          "data": {
            "text/plain": [
              "LogisticRegression(C=0.1, max_iter=500)"
            ]
          },
          "metadata": {},
          "execution_count": 234
        }
      ],
      "source": [
        "from sklearn.linear_model import LogisticRegression\n",
        "bow_model = LogisticRegression(max_iter=500, C=0.19644142809066276)\n",
        "bow_model.fit(X_train_bow, y_train)"
      ]
    },
    {
      "cell_type": "code",
      "source": [
        "%%time\n",
        "from sklearn.model_selection import GridSearchCV\n",
        "params = {'C': np.logspace(-1, 2, 400)}\n",
        "cv = GridSearchCV(LogisticRegression(), param_grid=params, cv=2, n_jobs=-1, verbose=2)\n",
        "cv.fit(X_train_bow, y_train)\n",
        "bow_model = cv.best_estimator_\n",
        "cv.best_params_"
      ],
      "metadata": {
        "colab": {
          "base_uri": "https://localhost:8080/"
        },
        "id": "w22_EenCpp_0",
        "outputId": "f9630dc4-7acf-4f53-cc9a-6512b8054070"
      },
      "execution_count": 238,
      "outputs": [
        {
          "output_type": "stream",
          "name": "stdout",
          "text": [
            "Fitting 2 folds for each of 400 candidates, totalling 800 fits\n",
            "CPU times: user 4.94 s, sys: 472 ms, total: 5.41 s\n",
            "Wall time: 2min 52s\n"
          ]
        },
        {
          "output_type": "execute_result",
          "data": {
            "text/plain": [
              "{'C': 0.19644142809066276}"
            ]
          },
          "metadata": {},
          "execution_count": 238
        }
      ]
    },
    {
      "cell_type": "code",
      "source": [
        "bow_model = LogisticRegression(max_iter=500, C=0.19644142809066276)\n",
        "bow_model.fit(X_train_bow, y_train)"
      ],
      "metadata": {
        "colab": {
          "base_uri": "https://localhost:8080/"
        },
        "id": "6ok-QJPrIGyp",
        "outputId": "80420065-e682-4524-d2e1-8d9172389e22"
      },
      "execution_count": 294,
      "outputs": [
        {
          "output_type": "execute_result",
          "data": {
            "text/plain": [
              "LogisticRegression(C=0.19644142809066276, max_iter=500)"
            ]
          },
          "metadata": {},
          "execution_count": 294
        }
      ]
    },
    {
      "cell_type": "code",
      "execution_count": 295,
      "metadata": {
        "id": "CTiPiixQ89Yk",
        "colab": {
          "base_uri": "https://localhost:8080/",
          "height": 301
        },
        "outputId": "4a7bd38f-cd15-4ab1-946a-c7bb3a26aadf"
      },
      "outputs": [
        {
          "output_type": "stream",
          "name": "stdout",
          "text": [
            "Model accuracy: 0.772\n",
            "Well done!\n"
          ]
        },
        {
          "output_type": "display_data",
          "data": {
            "text/plain": [
              "<Figure size 432x288 with 1 Axes>"
            ],
            "image/png": "[encoded data removed]"
          },
          "metadata": {
            "needs_background": "light"
          }
        }
      ],
      "source": [
        "from sklearn.metrics import roc_auc_score, roc_curve\n",
        "\n",
        "for name, X, y, model in [\n",
        "    ('train', X_train_bow, y_train, bow_model),\n",
        "    ('test ', X_test_bow, y_test, bow_model)\n",
        "]:\n",
        "    proba = model.predict_proba(X)[:, 1]\n",
        "    auc = roc_auc_score(y, proba)\n",
        "    plt.plot(*roc_curve(y, proba)[:2], label='%s AUC=%.4f' % (name, auc))\n",
        "\n",
        "plt.plot([0, 1], [0, 1], '--', color='black',)\n",
        "plt.legend(fontsize='large')\n",
        "plt.grid()\n",
        "\n",
        "test_accuracy = np.mean(bow_model.predict(X_test_bow) == y_test)\n",
        "print(f\"Model accuracy: {test_accuracy:.3f}\")\n",
        "assert test_accuracy > 0.77, \"Hint: tune the parameter C to improve performance\"\n",
        "print(\"Well done!\")"
      ]
    },
    {
      "cell_type": "markdown",
      "metadata": {
        "id": "_1U_T2LA89Yk"
      },
      "source": [
        "### Task: implement TF-IDF features\n",
        "\n",
        "Not all words are equally useful. One can prioritize rare words and downscale words like \"and\"/\"or\" by using __tf-idf features__. This abbreviation stands for __text frequency/inverse document frequence__ and means exactly that:\n",
        "\n",
        "$$ feature_i = { Count(word_i \\in x) \\times { log {N \\over Count(word_i \\in D) + \\alpha} }} $$\n",
        "\n",
        "\n",
        ", where x is a single text, D is your dataset (a collection of texts), N is a total number of documents and $\\alpha$ is a smoothing hyperparameter (typically 1). \n",
        "And $Count(word_i \\in D)$ is the number of documents where $word_i$ appears.\n",
        "\n",
        "It may also be a good idea to normalize each data sample after computing tf-idf features.\n",
        "\n",
        "__Your task:__ implement tf-idf features, train a model and evaluate ROC curve. Compare it with basic BagOfWords model from above.\n",
        "\n",
        "Please don't use sklearn/nltk builtin tf-idf vectorizers in your solution :) You can still use 'em for debugging though."
      ]
    },
    {
      "cell_type": "code",
      "source": [
        "from collections import Counter\n",
        "\n",
        "counter = Counter()\n",
        "counter.update([t for text in texts_train for t in text.split()])\n",
        "print(len(counter))\n",
        "# tf_idf_vocab = sorted(counter.items(), key=lambda x: x[1],  reverse=True)\n",
        "tf_idf_vocab = counter\n",
        "tf_idf_idx = {w:i for i, (w, c) in enumerate(counter.items())}"
      ],
      "metadata": {
        "colab": {
          "base_uri": "https://localhost:8080/"
        },
        "id": "rSkCJ89RwpCd",
        "outputId": "6e071dc6-14ea-47f4-e514-1a93486f9bdb"
      },
      "execution_count": 243,
      "outputs": [
        {
          "output_type": "stream",
          "name": "stdout",
          "text": [
            "5707\n"
          ]
        }
      ]
    },
    {
      "cell_type": "code",
      "execution_count": 266,
      "metadata": {
        "id": "PDnFKDZD89Yk"
      },
      "outputs": [],
      "source": [
        "def count_tf_idf(corpus, alpha=1):\n",
        "    tf_idf_corpus = np.zeros((len(corpus), len(counter)))\n",
        "    bad_counter = 0\n",
        "    for i, text in enumerate(corpus):\n",
        "        tokens = preprocess(text).split()\n",
        "        for tok in set(tokens):\n",
        "            if tok in tf_idf_vocab:    \n",
        "                tf = tokens.count(tok)\n",
        "                idf = np.log( len(corpus) / (tf_idf_vocab[tok] + alpha) )\n",
        "                tok_tfidf = tf * idf\n",
        "                tf_idf_corpus[i][tf_idf_idx[tok]] = tok_tfidf\n",
        "            else:\n",
        "                bad_counter += 1\n",
        "    print(f'Amount of bad tokens in corpus {bad_counter}')\n",
        "    return tf_idf_corpus"
      ]
    },
    {
      "cell_type": "code",
      "source": [
        "X_train_tfidf = count_tf_idf(texts_train)\n",
        "X_test_tfidf = count_tf_idf(texts_test)"
      ],
      "metadata": {
        "colab": {
          "base_uri": "https://localhost:8080/"
        },
        "id": "ERvaqQNR7OOF",
        "outputId": "20d3074a-56e2-44b3-a749-584390867529"
      },
      "execution_count": 267,
      "outputs": [
        {
          "output_type": "stream",
          "name": "stdout",
          "text": [
            "Amount of bad tokens in corpus 0\n",
            "Amount of bad tokens in corpus 3018\n"
          ]
        }
      ]
    },
    {
      "cell_type": "code",
      "source": [
        "%%time\n",
        "from sklearn.model_selection import GridSearchCV\n",
        "params = {'C': np.logspace(-1, 2, 100)}\n",
        "cv = GridSearchCV(LogisticRegression(), param_grid=params, cv=2, n_jobs=-1, verbose=2)\n",
        "cv.fit(X_train_tfidf, y_train)\n",
        "tfidf_model = cv.best_estimator_\n",
        "cv.best_params_"
      ],
      "metadata": {
        "colab": {
          "base_uri": "https://localhost:8080/"
        },
        "outputId": "b6410172-30ce-4d01-9a54-0e3171656882",
        "id": "bdIw0XwS9oG2"
      },
      "execution_count": 262,
      "outputs": [
        {
          "output_type": "stream",
          "name": "stdout",
          "text": [
            "Fitting 2 folds for each of 100 candidates, totalling 200 fits\n",
            "CPU times: user 1.36 s, sys: 201 ms, total: 1.56 s\n",
            "Wall time: 27.8 s\n"
          ]
        },
        {
          "output_type": "execute_result",
          "data": {
            "text/plain": [
              "{'C': 0.10722672220103231}"
            ]
          },
          "metadata": {},
          "execution_count": 262
        }
      ]
    },
    {
      "cell_type": "code",
      "source": [
        "tfidf_model = LogisticRegression(C=0.10722672220103231)\n",
        "tfidf_model.fit(X_train_tfidf, y_train)"
      ],
      "metadata": {
        "colab": {
          "base_uri": "https://localhost:8080/"
        },
        "id": "8qNSzlwTIZOl",
        "outputId": "e1963518-48f3-45dd-ebd9-6ad85a674ae2"
      },
      "execution_count": 297,
      "outputs": [
        {
          "output_type": "execute_result",
          "data": {
            "text/plain": [
              "LogisticRegression(C=0.10722672220103231)"
            ]
          },
          "metadata": {},
          "execution_count": 297
        }
      ]
    },
    {
      "cell_type": "code",
      "execution_count": 298,
      "metadata": {
        "colab": {
          "base_uri": "https://localhost:8080/",
          "height": 301
        },
        "outputId": "7ad24cf7-7e4f-4317-e4e3-be4dc4e27056",
        "id": "6a4tmfmW9oG2"
      },
      "outputs": [
        {
          "output_type": "stream",
          "name": "stdout",
          "text": [
            "Model accuracy: 0.786\n",
            "Well done!\n"
          ]
        },
        {
          "output_type": "display_data",
          "data": {
            "text/plain": [
              "<Figure size 432x288 with 1 Axes>"
            ],
            "image/png": "[encoded data removed]"
          },
          "metadata": {
            "needs_background": "light"
          }
        }
      ],
      "source": [
        "from sklearn.metrics import roc_auc_score, roc_curve\n",
        "\n",
        "for name, X, y, model in [\n",
        "    ('train', X_train_tfidf, y_train, tfidf_model),\n",
        "    ('test ', X_test_tfidf, y_test, tfidf_model)\n",
        "]:\n",
        "    proba = model.predict_proba(X)[:, 1]\n",
        "    auc = roc_auc_score(y, proba)\n",
        "    plt.plot(*roc_curve(y, proba)[:2], label='%s AUC=%.4f' % (name, auc))\n",
        "\n",
        "plt.plot([0, 1], [0, 1], '--', color='black',)\n",
        "plt.legend(fontsize='large')\n",
        "plt.grid()\n",
        "\n",
        "test_accuracy = np.mean(tfidf_model.predict(X_test_tfidf) == y_test)\n",
        "print(f\"Model accuracy: {test_accuracy:.3f}\")\n",
        "assert test_accuracy > 0.77, \"Hint: tune the parameter C to improve performance\"\n",
        "print(\"Well done!\")"
      ]
    },
    {
      "cell_type": "markdown",
      "metadata": {
        "id": "nNGd7k6a89Yk"
      },
      "source": [
        "```\n",
        "\n",
        "```\n",
        "\n",
        "```\n",
        "\n",
        "```\n",
        "\n",
        "```\n",
        "\n",
        "```\n",
        "\n",
        "```\n",
        "\n",
        "```\n",
        "\n",
        "```\n",
        "\n",
        "```\n",
        "\n",
        "```\n",
        "\n",
        "```\n",
        "\n",
        "```\n",
        "\n",
        "```\n",
        "\n",
        "```\n",
        "\n",
        "```\n",
        "\n",
        "\n",
        "### Solving it better: word vectors\n",
        "\n",
        "Let's try another approach: instead of counting per-word frequencies, we shall map all words to pre-trained word vectors and average over them to get text features.\n",
        "\n",
        "This should give us two key advantages: (1) we now have 10^2 features instead of 10^4 and (2) our model can generalize to word that are not in training dataset.\n",
        "\n",
        "We begin with a standard approach with pre-trained word vectors. However, you may also try\n",
        "* training embeddings from scratch on relevant (unlabeled) data\n",
        "* multiplying word vectors by inverse word frequency in dataset (like tf-idf).\n",
        "* concatenating several embeddings\n",
        "    * call `gensim.downloader.info()['models'].keys()` to get a list of available models\n",
        "* clusterizing words by their word-vectors and try bag of cluster_ids\n",
        "\n",
        "__Note:__ loading pre-trained model may take a while. It's a perfect opportunity to refill your cup of tea/coffee and grab some extra cookies. Or binge-watch some tv series if you're slow on internet connection"
      ]
    },
    {
      "cell_type": "code",
      "execution_count": 269,
      "metadata": {
        "collapsed": true,
        "scrolled": false,
        "id": "ktFtFNVi89Yl",
        "colab": {
          "base_uri": "https://localhost:8080/"
        },
        "outputId": "8a9e4a3d-5af1-47de-988b-2291eaafa21f"
      },
      "outputs": [
        {
          "output_type": "stream",
          "name": "stdout",
          "text": [
            "[==================================================] 100.0% 958.5/958.4MB downloaded\n"
          ]
        }
      ],
      "source": [
        "import gensim.downloader \n",
        "embeddings = gensim.downloader.load(\"fasttext-wiki-news-subwords-300\")\n",
        "\n",
        "# If you're low on RAM or download speed, use \"glove-wiki-gigaword-100\" instead. Ignore all further asserts."
      ]
    },
    {
      "cell_type": "code",
      "execution_count": 319,
      "metadata": {
        "collapsed": true,
        "id": "dqGaTOI489Yl"
      },
      "outputs": [],
      "source": [
        "def vectorize_sum(comment):\n",
        "    \"\"\"\n",
        "    implement a function that converts preprocessed comment to a sum of token vectors\n",
        "    \"\"\"\n",
        "    embedding_dim = embeddings.vectors.shape[1]\n",
        "    features = np.zeros([embedding_dim], dtype='float32')\n",
        "    \n",
        "    for token in comment.split():\n",
        "        if token in embeddings.vocab:\n",
        "            features += embeddings.get_vector(token)\n",
        "    \n",
        "    return features\n",
        "\n",
        "\n",
        "assert np.allclose(\n",
        "    vectorize_sum(\"who cares anymore . they attack with impunity .\")[::70],\n",
        "    np.array([ 0.0108616 ,  0.0261663 ,  0.13855131, -0.18510573, -0.46380025])\n",
        ")"
      ]
    },
    {
      "cell_type": "code",
      "execution_count": 320,
      "metadata": {
        "collapsed": true,
        "id": "uDDxii-u89Yl"
      },
      "outputs": [],
      "source": [
        "X_train_wv = np.stack([vectorize_sum(text) for text in texts_train])\n",
        "X_test_wv = np.stack([vectorize_sum(text) for text in texts_test])"
      ]
    },
    {
      "cell_type": "code",
      "execution_count": 321,
      "metadata": {
        "id": "j9T1nucv89Yl",
        "colab": {
          "base_uri": "https://localhost:8080/",
          "height": 283
        },
        "outputId": "b5a4a2a6-029e-4585-d3ee-5006fbd7d9d8"
      },
      "outputs": [
        {
          "output_type": "stream",
          "name": "stdout",
          "text": [
            "0.9309612320764736\n"
          ]
        },
        {
          "output_type": "display_data",
          "data": {
            "text/plain": [
              "<Figure size 432x288 with 1 Axes>"
            ],
            "image/png": "[encoded data removed]"
          },
          "metadata": {
            "needs_background": "light"
          }
        }
      ],
      "source": [
        "wv_model = LogisticRegression(max_iter=500).fit(X_train_wv, y_train)\n",
        "\n",
        "for name, X, y, model in [\n",
        "    ('bow train', X_train_bow, y_train, bow_model),\n",
        "    ('bow test ', X_test_bow, y_test, bow_model),\n",
        "    ('vec train', X_train_wv, y_train, wv_model),\n",
        "    ('vec test ', X_test_wv, y_test, wv_model)\n",
        "]:\n",
        "    proba = model.predict_proba(X)[:, 1]\n",
        "    auc = roc_auc_score(y, proba)\n",
        "    plt.plot(*roc_curve(y, proba)[:2], label='%s AUC=%.4f' % (name, auc))\n",
        "\n",
        "plt.plot([0, 1], [0, 1], '--', color='black',)\n",
        "plt.legend(fontsize='large')\n",
        "plt.grid()\n",
        "print(roc_auc_score(y_test, wv_model.predict_proba(X_test_wv)[:, 1]))\n",
        "assert roc_auc_score(y_test, wv_model.predict_proba(X_test_wv)[:, 1]) > 0.92, \"something's wrong with your features\""
      ]
    },
    {
      "cell_type": "markdown",
      "metadata": {
        "id": "S7coi2Az89Ym"
      },
      "source": [
        "If everything went right, you've just managed to reduce misclassification rate by a factor of two.\n",
        "This trick is very useful when you're dealing with small datasets. However, if you have hundreds of thousands of samples, there's a whole different range of methods for that. We'll get there in the second part."
      ]
    }
  ],
  "metadata": {
    "kernelspec": {
      "display_name": "Python 3",
      "language": "python",
      "name": "python3"
    },
    "language_info": {
      "codemirror_mode": {
        "name": "ipython",
        "version": 3
      },
      "file_extension": ".py",
      "mimetype": "text/x-python",
      "name": "python",
      "nbconvert_exporter": "python",
      "pygments_lexer": "ipython3",
      "version": "3.8.1"
    },
    "colab": {
      "provenance": []
    }
  },
  "nbformat": 4,
  "nbformat_minor": 0
}